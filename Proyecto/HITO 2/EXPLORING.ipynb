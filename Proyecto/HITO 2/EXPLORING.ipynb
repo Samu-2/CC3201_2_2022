{
 "cells": [
  {
   "cell_type": "markdown",
   "metadata": {},
   "source": [
    "# Exploration PSQL"
   ]
  },
  {
   "cell_type": "markdown",
   "metadata": {},
   "source": [
    "## INITIAL VARS\n"
   ]
  },
  {
   "cell_type": "code",
   "execution_count": 8,
   "metadata": {},
   "outputs": [],
   "source": [
    "import psycopg2\n",
    "import psycopg2.extras\n",
    "USER        = \"cc3201\"\n",
    "HOSTNAME    = \"cc3201.dcc.uchile.cl\"\n",
    "PORT        = 5518\n",
    "PASSWORD    = \"cc3201\"\n",
    "DATABASE    = \"cc3201\""
   ]
  },
  {
   "cell_type": "markdown",
   "metadata": {},
   "source": [
    "## CONECTION"
   ]
  },
  {
   "cell_type": "code",
   "execution_count": 9,
   "metadata": {},
   "outputs": [
    {
     "ename": "OperationalError",
     "evalue": "connection to server at \"cc3201.dcc.uchile.cl\" (192.80.24.220), port 5518 failed: FATAL:  no pg_hba.conf entry for host \"186.106.27.43\", user \"cc3201\", database \"cc3201\", SSL on\nconnection to server at \"cc3201.dcc.uchile.cl\" (192.80.24.220), port 5518 failed: FATAL:  no pg_hba.conf entry for host \"186.106.27.43\", user \"cc3201\", database \"cc3201\", SSL off\n",
     "output_type": "error",
     "traceback": [
      "\u001b[1;31m---------------------------------------------------------------------------\u001b[0m",
      "\u001b[1;31mOperationalError\u001b[0m                          Traceback (most recent call last)",
      "Cell \u001b[1;32mIn [9], line 7\u001b[0m\n\u001b[0;32m      4\u001b[0m         \u001b[39mself\u001b[39m\u001b[39m.\u001b[39mcur \u001b[39m=\u001b[39m \u001b[39mself\u001b[39m\u001b[39m.\u001b[39mcon\u001b[39m.\u001b[39mcursor()\n\u001b[0;32m      5\u001b[0m         \u001b[39mpass\u001b[39;00m\n\u001b[1;32m----> 7\u001b[0m clt \u001b[39m=\u001b[39m Cliente()\n",
      "Cell \u001b[1;32mIn [9], line 3\u001b[0m, in \u001b[0;36mCliente.__init__\u001b[1;34m(self)\u001b[0m\n\u001b[0;32m      2\u001b[0m \u001b[39mdef\u001b[39;00m \u001b[39m__init__\u001b[39m(\u001b[39mself\u001b[39m) \u001b[39m-\u001b[39m\u001b[39m>\u001b[39m \u001b[39mNone\u001b[39;00m:\n\u001b[1;32m----> 3\u001b[0m     \u001b[39mself\u001b[39m\u001b[39m.\u001b[39mcon \u001b[39m=\u001b[39m psycopg2\u001b[39m.\u001b[39;49mconnect(host\u001b[39m=\u001b[39;49mHOSTNAME, port\u001b[39m=\u001b[39;49mPORT, user\u001b[39m=\u001b[39;49mUSER, password\u001b[39m=\u001b[39;49mPASSWORD, database\u001b[39m=\u001b[39;49mDATABASE)\n\u001b[0;32m      4\u001b[0m     \u001b[39mself\u001b[39m\u001b[39m.\u001b[39mcur \u001b[39m=\u001b[39m \u001b[39mself\u001b[39m\u001b[39m.\u001b[39mcon\u001b[39m.\u001b[39mcursor()\n\u001b[0;32m      5\u001b[0m     \u001b[39mpass\u001b[39;00m\n",
      "File \u001b[1;32md:\\Devel\\Python 3.10\\lib\\site-packages\\psycopg2\\__init__.py:122\u001b[0m, in \u001b[0;36mconnect\u001b[1;34m(dsn, connection_factory, cursor_factory, **kwargs)\u001b[0m\n\u001b[0;32m    119\u001b[0m     kwasync[\u001b[39m'\u001b[39m\u001b[39masync_\u001b[39m\u001b[39m'\u001b[39m] \u001b[39m=\u001b[39m kwargs\u001b[39m.\u001b[39mpop(\u001b[39m'\u001b[39m\u001b[39masync_\u001b[39m\u001b[39m'\u001b[39m)\n\u001b[0;32m    121\u001b[0m dsn \u001b[39m=\u001b[39m _ext\u001b[39m.\u001b[39mmake_dsn(dsn, \u001b[39m*\u001b[39m\u001b[39m*\u001b[39mkwargs)\n\u001b[1;32m--> 122\u001b[0m conn \u001b[39m=\u001b[39m _connect(dsn, connection_factory\u001b[39m=\u001b[39mconnection_factory, \u001b[39m*\u001b[39m\u001b[39m*\u001b[39mkwasync)\n\u001b[0;32m    123\u001b[0m \u001b[39mif\u001b[39;00m cursor_factory \u001b[39mis\u001b[39;00m \u001b[39mnot\u001b[39;00m \u001b[39mNone\u001b[39;00m:\n\u001b[0;32m    124\u001b[0m     conn\u001b[39m.\u001b[39mcursor_factory \u001b[39m=\u001b[39m cursor_factory\n",
      "\u001b[1;31mOperationalError\u001b[0m: connection to server at \"cc3201.dcc.uchile.cl\" (192.80.24.220), port 5518 failed: FATAL:  no pg_hba.conf entry for host \"186.106.27.43\", user \"cc3201\", database \"cc3201\", SSL on\nconnection to server at \"cc3201.dcc.uchile.cl\" (192.80.24.220), port 5518 failed: FATAL:  no pg_hba.conf entry for host \"186.106.27.43\", user \"cc3201\", database \"cc3201\", SSL off\n"
     ]
    }
   ],
   "source": [
    "class Cliente:\n",
    "    def __init__(self) -> None:\n",
    "        self.con = psycopg2.connect(host=HOSTNAME, port=PORT, user=USER, password=PASSWORD, database=DATABASE)\n",
    "        self.cur = self.con.cursor()\n",
    "        pass\n",
    "\n",
    "clt = Cliente()"
   ]
  }
 ],
 "metadata": {
  "kernelspec": {
   "display_name": "Python 3.10.7 64-bit",
   "language": "python",
   "name": "python3"
  },
  "language_info": {
   "codemirror_mode": {
    "name": "ipython",
    "version": 3
   },
   "file_extension": ".py",
   "mimetype": "text/x-python",
   "name": "python",
   "nbconvert_exporter": "python",
   "pygments_lexer": "ipython3",
   "version": "3.10.7"
  },
  "orig_nbformat": 4,
  "vscode": {
   "interpreter": {
    "hash": "a1cd05fb9d4141f7f837b5cf195e25a3746452a052d84446eaccfc0e32444974"
   }
  }
 },
 "nbformat": 4,
 "nbformat_minor": 2
}
